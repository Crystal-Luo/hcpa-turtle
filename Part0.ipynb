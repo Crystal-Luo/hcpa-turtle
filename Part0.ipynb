{
 "cells": [
  {
   "cell_type": "markdown",
   "metadata": {},
   "source": [
    "# Hello!\n",
    "We're Crystal, Devin, and Tiffany! We're members of the Society of Asian Scientists and Engineers, a student group at the University of Minnesota.\n",
    "\n",
    "# Programming\n",
    "We'll be using Python, a programming language, to draw pictures with code. To get started, [click here](Part1.ipynb)! **Please ask us whenever you have questions or get stuck!** We like explaining things, and we're here to help :)\n",
    "\n",
    "If you're ever bored and want to keep drawing with turtles, you can always come back, even after today.\n",
    "\n",
    "# Other resources\n",
    "Here are some other resources to take a look at:\n",
    "* [Python](https://www.python.org/), the programming language we're using today\n",
    "    * Python is very widely used! It's taught in the introductory computer science class at UMN, CSCI 1133.\n",
    "    * Common uses include:\n",
    "        * Data science, artificial intelligence and machine learning (see [Tensorflow](https://www.tensorflow.org/))\n",
    "        * Making basic games (see [Pygame](https://www.pygame.org/))\n",
    "        * All kinds of scientific research, including biology, math/statistics, psychology, geology... the list goes on\n",
    "* [Codecademy](https://www.codecademy.com/), which has lots of tutorials for coding\n",
    "\n",
    "If you'd like to contact us at any point, here are our emails:  \n",
    "Crystal: luoxx556@umn.edu  \n",
    "Devin: dengx396@umn.edu  \n",
    "Tiffany: limxx456@umn.edu"
   ]
  }
 ],
 "metadata": {
  "kernelspec": {
   "display_name": "Python 3",
   "language": "python",
   "name": "python3"
  },
  "language_info": {
   "codemirror_mode": {
    "name": "ipython",
    "version": 3
   },
   "file_extension": ".py",
   "mimetype": "text/x-python",
   "name": "python",
   "nbconvert_exporter": "python",
   "pygments_lexer": "ipython3",
   "version": "3.7.2"
  }
 },
 "nbformat": 4,
 "nbformat_minor": 2
}
