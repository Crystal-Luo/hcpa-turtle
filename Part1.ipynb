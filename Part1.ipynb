{
 "cells": [
  {
   "cell_type": "markdown",
   "metadata": {},
   "source": [
    "# Setup\n",
    "To run a chunk of code, click on it so that it's bordered by a **blue or green box**. Then click the **Run button** on the toolbar above.\n",
    "\n",
    "Try it on the box below! It doesn't do anything visible; it just does some setup to let you run code later.  \n",
    "**IMPORTANT!!** If you close this page and come back, you'll have to **run the code in this box again**."
   ]
  },
  {
   "cell_type": "code",
   "execution_count": null,
   "metadata": {},
   "outputs": [],
   "source": [
    "from mobilechelonian import Turtle"
   ]
  },
  {
   "cell_type": "markdown",
   "metadata": {},
   "source": [
    "Great! Let's create a new turtle. **This turtle acts like a pen that we'll use to make drawings.** Again, click on the box below so that it's bordered by a blue or green outline, and click the Run button."
   ]
  },
  {
   "cell_type": "code",
   "execution_count": null,
   "metadata": {},
   "outputs": [],
   "source": [
    "squirtle = Turtle()\n",
    "# Run the code in this box again to reset your drawing."
   ]
  },
  {
   "cell_type": "markdown",
   "metadata": {},
   "source": [
    "Yay, a turtle! Let's look at that line of code a bit more closely:\n",
    "\n",
    "* `squirtle` is what programmers call a **variable**. Variables can have all kinds of values, including numbers (like 5 or -999.386), words (like \"hello\"), and, well, turtles.\n",
    "    * You can call variables whatever you want, from `bob` to `turtles_r_great_123_`. In this case, we chose `squirtle`.\n",
    "* The `Turtle()` part actually creates the turtle, and the `=` sign **assigns** the new turtle to `squirtle`. This means that the value of the `squirtle` variable is the turtle. So now, **when we say `squirtle`, we're referring to the turtle**.\n",
    "\n",
    "**Now you'll be making drawings with `squirtle`. To reset your drawing, go back and re-run the code in the box above.**\n",
    "\n",
    "# Drawing\n",
    "\n",
    "Now let's make `squirtle` draw something. Run the code in the following box."
   ]
  },
  {
   "cell_type": "code",
   "execution_count": null,
   "metadata": {},
   "outputs": [],
   "source": [
    "squirtle.pendown()\n",
    "squirtle.forward(50)\n",
    "squirtle.right(90)\n",
    "squirtle.forward(20)\n",
    "squirtle.penup()\n",
    "squirtle.home()"
   ]
  },
  {
   "cell_type": "markdown",
   "metadata": {},
   "source": [
    "Scroll back up to the turtle picture, and notice that `squirtle` has drawn something. How did that work? Let's look at the code, line-by-line.\n",
    "\n",
    "1. `squirtle` starts leaving a trail behind wherever it walks, like putting a pen down on paper. \n",
    "2. `squirtle` walks 50 pixels in the direction it's facing (right).\n",
    "3. `squirtle` turns 90 degrees to *its* right. Since it was originally facing right, it's now facing down. \n",
    "4. `squirtle` walks 20 pixels in the direction it's facing (down).\n",
    "5. `squirtle` stops leaving a trail, like lifting a pen from paper.\n",
    "6. `squirtle` returns to its starting position.\n",
    "\n",
    "Try it yourself! Reset the drawing (re-run the code in the second box under **Setup**), and try out some code in the following box to draw some lines."
   ]
  },
  {
   "cell_type": "code",
   "execution_count": null,
   "metadata": {},
   "outputs": [],
   "source": []
  },
  {
   "cell_type": "markdown",
   "metadata": {},
   "source": [
    "# Making a Square\n",
    "Let's draw a square with sides that are 100 pixels long. We need to do the following:\n",
    "* Put the pen down\n",
    "* Move forward 100 pixels\n",
    "* Turn 90 degrees to the right\n",
    "* Move forward 100 pixels\n",
    "* Turn 90 degrees to the right\n",
    "* Move forward 100 pixels\n",
    "* Turn 90 degrees to the right\n",
    "* Move forward 100 pixels\n",
    "\n",
    "Try it in the box below! Don't forget to reset the drawing."
   ]
  },
  {
   "cell_type": "code",
   "execution_count": null,
   "metadata": {},
   "outputs": [],
   "source": []
  },
  {
   "cell_type": "markdown",
   "metadata": {},
   "source": [
    "## Using a Variable\n",
    "The square we just drew has a side length of 100 pixels. How can we change it to be, say, 50 pixels?\n",
    "\n",
    "One option: just change all of the 100s to 50s. But doesn't that seem annoying? We have to do that four times! What if we want to be able to draw squares of lots of different sizes? We don't want to keep changing those four separate lines.\n",
    "\n",
    "Another option is to define a **variable** that stores our side length. Let's see how that's done. Go back and reset the drawing, and run the following code."
   ]
  },
  {
   "cell_type": "code",
   "execution_count": null,
   "metadata": {},
   "outputs": [],
   "source": [
    "side_length = 50\n",
    "squirtle.forward(side_length)"
   ]
  },
  {
   "cell_type": "markdown",
   "metadata": {},
   "source": [
    "`squirtle` drew a line, and that line is of length 50! How did that work? We defined a **variable** called `side_length`, and right now, it's holding the value 50. So when we say `squirtle.forward(side_length)`, it moves forward 50 pixels.\n",
    "\n",
    "Try the following:\n",
    "1. Go back to the code where you drew the 100-pixel square, and at the top, define a variable called `side_length`. Give it any value you want.\n",
    "2. Whenever you say `squirtle.forward(100)`, replace it with `squirtle.forward(side_length)`.\n",
    "\n",
    "Now, if we want to change the size of our square, all we have to do is **change the value of `side_length`**! We don't have to change 4 different lines! Try running your code."
   ]
  },
  {
   "cell_type": "markdown",
   "metadata": {},
   "source": [
    "Click [here](Part2.ipynb) to continue on to the next part."
   ]
  }
 ],
 "metadata": {
  "kernelspec": {
   "display_name": "Python 3",
   "language": "python",
   "name": "python3"
  },
  "language_info": {
   "codemirror_mode": {
    "name": "ipython",
    "version": 3
   },
   "file_extension": ".py",
   "mimetype": "text/x-python",
   "name": "python",
   "nbconvert_exporter": "python",
   "pygments_lexer": "ipython3",
   "version": "3.7.1"
  }
 },
 "nbformat": 4,
 "nbformat_minor": 2
}
