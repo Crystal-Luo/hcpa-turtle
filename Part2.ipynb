{
 "cells": [
  {
   "cell_type": "markdown",
   "metadata": {},
   "source": [
    "# A note about variables\n",
    "Turtles are great, but we'll come back to them in a moment.\n",
    "\n",
    "It's important to note that you can do math with variables, a little like algebra. This probably looks familiar:\n",
    "```\n",
    "x = 23\n",
    "y = 1000\n",
    "z = x + y\n",
    "```\n",
    "The value of `z` is 1023.\n",
    "\n",
    "But with programming, *you can also do this:*\n",
    "```\n",
    "x = 60\n",
    "x = x + 15\n",
    "```\n",
    "Now, the value of `x` becomes 75."
   ]
  },
  {
   "cell_type": "markdown",
   "metadata": {},
   "source": [
    "# Setup\n",
    "Hopefully you kind of know the drill by now. Run this first, and **re-run it if you close this page and come back**."
   ]
  },
  {
   "cell_type": "code",
   "execution_count": null,
   "metadata": {},
   "outputs": [],
   "source": [
    "from mobilechelonian import Turtle"
   ]
  },
  {
   "cell_type": "markdown",
   "metadata": {},
   "source": [
    "And here's your turtle:"
   ]
  },
  {
   "cell_type": "code",
   "execution_count": null,
   "metadata": {},
   "outputs": [],
   "source": [
    "squirtle = Turtle()\n",
    "# Run the code in this box again to reset your drawing."
   ]
  },
  {
   "cell_type": "markdown",
   "metadata": {},
   "source": [
    "# Loops\n",
    "When you wrote the code to make the square, it probably looked something like this:\n",
    "```\n",
    "side_length = 100\n",
    "squirtle.pendown()\n",
    "squirtle.forward(side_length)\n",
    "squirtle.right(90)\n",
    "squirtle.forward(side_length)\n",
    "squirtle.right(90)\n",
    "... etc.\n",
    "```\n",
    "That's really repetitive. What if we could shorten it somehow? That's where **loops** come in handy. With loops, we can tell `squirtle` to **repeat actions several times**!\n",
    "\n",
    "So here's another way to draw a square. Try running the following code, and see what the turtle draws."
   ]
  },
  {
   "cell_type": "code",
   "execution_count": null,
   "metadata": {},
   "outputs": [],
   "source": [
    "side_length = 100\n",
    "squirtle.pendown()\n",
    "\n",
    "sides_drawn_so_far = 0\n",
    "while sides_drawn_so_far < 4:\n",
    "    squirtle.forward(side_length)\n",
    "    squirtle.right(90)\n",
    "    sides_drawn_so_far = sides_drawn_so_far + 1"
   ]
  },
  {
   "cell_type": "markdown",
   "metadata": {},
   "source": [
    "Well, it somehow made a square. So what in the world are lines 4-8 doing?\n",
    "\n",
    "We just wrote a loop. It makes certain lines of code repeat several times. Let's break it down.\n",
    "* Line 4 just defines a new variable, `sides_drawn_so_far`. At first, it's just 0. Nothing too fancy yet...\n",
    "* Now line 5 is where things get interesting.\n",
    "    * `while` is a *keyword*. It tells Python that we're about to define a loop.\n",
    "    * `sides_drawn_so_far < 4` is a *condition*. The loop keeps repeating *as long as the condition is satisfied*.\n",
    "* Lines 6-8 are the lines that repeat.\n",
    "    * Notice that they're **indented**! This is important. That's how Python knows that **these are the lines we want to repeat**.\n",
    "    * Lines 6-7 just tell `squirtle` what to do: draw one side of the square.\n",
    "\n",
    "Let's talk about lines 4, 5, and 8. The important thing here is **`sides_drawn_so_far`**.\n",
    "* Before `squirtle` starts drawing, no sides of the square have been drawn yet. So on line 4, `sides_drawn_so_far` is 0.\n",
    "* Then the loop starts running, and `squirtle` starts drawing. After lines 6-7 run, `squirtle` draws one side, so we add one to `sides_drawn_so_far`. (See the note at the top of this page.)\n",
    "* *When `sides_drawn_so_far` becomes 4, the square is complete, so the loop stops!*"
   ]
  },
  {
   "cell_type": "markdown",
   "metadata": {},
   "source": [
    "Try making some changes to the loop.\n",
    "* How might you make a triangle? Pentagon? *Hint: think about the number of sides to draw, as well as the angle that the turtle has to turn.*\n",
    "* What happens if you change the `side_length` variable during the loop?\n",
    "\n",
    "Try it out in the box below; don't forget to reset the drawing."
   ]
  },
  {
   "cell_type": "code",
   "execution_count": null,
   "metadata": {},
   "outputs": [],
   "source": [
    "side_length = 100\n",
    "squirtle.pendown()\n",
    "\n",
    "sides_drawn_so_far = 0\n",
    "while sides_drawn_so_far < 4:\n",
    "    squirtle.forward(side_length)\n",
    "    squirtle.right(90)\n",
    "    sides_drawn_so_far = sides_drawn_so_far + 1"
   ]
  },
  {
   "cell_type": "markdown",
   "metadata": {},
   "source": [
    "# Other things Turtle can do: \"Methods\"\n",
    "To tell `squirtle` to do things, we've been saying `squirtle.dothething()`. In this example, `dothething()` is called a *method*.\n",
    "\n",
    "Here's a list of methods we've used so far:\n",
    "```\n",
    "pendown()\n",
    "penup()\n",
    "forward(x)\n",
    "right(x)\n",
    "```\n",
    "\n",
    "But there are so many other methods you can use! For example:\n",
    "```\n",
    "# Move backwards by x pixels\n",
    "backward(x)\n",
    "\n",
    "# Rotate left by x degrees\n",
    "left(x)\n",
    "\n",
    "# Draw red lines instead of black. You can try this with other colors, too!\n",
    "pencolor(\"red\")\n",
    "\n",
    "# Move the turtle to coordinate (x, y)\n",
    "setposition(x, y)\n",
    "```\n",
    "\n",
    "For a full list, go here: [https://docs.python.org/3.3/library/turtle.html?highlight=turtle#turtle-methods](https://docs.python.org/3.3/library/turtle.html?highlight=turtle#turtle-methods)\n",
    "\n",
    "# Bonus challenges\n",
    "Here are some ideas of things you can try to draw! See if you can include loops and variables.\n",
    "* Zigzag\n",
    "* Star\n",
    "* Spell out words\n",
    "* Anything else you can think of!"
   ]
  },
  {
   "cell_type": "code",
   "execution_count": null,
   "metadata": {},
   "outputs": [],
   "source": []
  }
 ],
 "metadata": {
  "kernelspec": {
   "display_name": "Python 3",
   "language": "python",
   "name": "python3"
  },
  "language_info": {
   "codemirror_mode": {
    "name": "ipython",
    "version": 3
   },
   "file_extension": ".py",
   "mimetype": "text/x-python",
   "name": "python",
   "nbconvert_exporter": "python",
   "pygments_lexer": "ipython3",
   "version": "3.7.1"
  }
 },
 "nbformat": 4,
 "nbformat_minor": 2
}
