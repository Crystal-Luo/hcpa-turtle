{
 "cells": [
  {
   "cell_type": "markdown",
   "metadata": {},
   "source": [
    "# Setup\n",
    "\n",
    "Run the code in these boxes for setup."
   ]
  },
  {
   "cell_type": "code",
   "execution_count": null,
   "metadata": {},
   "outputs": [],
   "source": [
    "from mobilechelonian import Turtle"
   ]
  },
  {
   "cell_type": "code",
   "execution_count": null,
   "metadata": {},
   "outputs": [],
   "source": [
    "squirtle = Turtle()\n",
    "# Run the code in this box again to reset your drawing. It creates a new canvas that overrides the old one."
   ]
  },
  {
   "cell_type": "markdown",
   "metadata": {},
   "source": [
    "# Functions\n",
    "\n",
    "In part 2, you used **loops** to repeat lines of code several times in succession. This helps clean things up so that we don't keep copy-pasting a few lines of code over and over.\n",
    "\n",
    "**Functions** are another way to avoid repetition. Consider this:"
   ]
  },
  {
   "cell_type": "code",
   "execution_count": null,
   "metadata": {},
   "outputs": [],
   "source": [
    "def draw_square():\n",
    "    squirtle.pendown()\n",
    "    sides_drawn_so_far = 0\n",
    "    while sides_drawn_so_far < 4:\n",
    "        squirtle.forward(100)\n",
    "        squirtle.right(90)\n",
    "        sides_drawn_so_far = sides_drawn_so_far + 1"
   ]
  },
  {
   "cell_type": "markdown",
   "metadata": {},
   "source": [
    "The code from line 2 on should look familiar. So what is line 1?\n",
    "* `def` is a keyword that says we're about to *define* a new function.\n",
    "* `draw_square` is the *name* that we're giving to the function. The name can really be anything you want.\n",
    "* The parentheses `()` appear to be meaningless, but they are necessary. We'll talk about them later.\n",
    "\n",
    "When you run the code in the box above, *nothing seems to happen*. This is because we've only defined the function, which is different from actually running it.\n",
    "\n",
    "To run it, try this:"
   ]
  },
  {
   "cell_type": "code",
   "execution_count": null,
   "metadata": {},
   "outputs": [],
   "source": [
    "draw_square()"
   ]
  },
  {
   "cell_type": "markdown",
   "metadata": {},
   "source": [
    "Beautiful! Now, whenever you want to draw a square, you don't have to write the code all over again. All you have to do is say `draw_square()`. As you can see, **functions make our code reusable**.\n",
    "\n",
    "## Task\n",
    "\n",
    "Try using the `draw_square()` function (probably along with some other commands) to draw two squares in different positions on the screen, *without changing the definition of the `draw_square()` function*.\n",
    "\n",
    "# Parameters\n",
    "\n",
    "Notice that `draw_square()` always draws squares with side length 100. What if we want to be able to draw squares of any size?\n",
    "\n",
    "Consider the following:"
   ]
  },
  {
   "cell_type": "code",
   "execution_count": null,
   "metadata": {},
   "outputs": [],
   "source": [
    "def draw_square_2(side_length):\n",
    "    squirtle.pendown()\n",
    "    sides_drawn_so_far = 0\n",
    "    while sides_drawn_so_far < 4:\n",
    "        squirtle.forward(side_length)\n",
    "        squirtle.right(90)\n",
    "        sides_drawn_so_far = sides_drawn_so_far + 1"
   ]
  },
  {
   "cell_type": "markdown",
   "metadata": {},
   "source": [
    "Look at line 1; compare it to line 1 of the other function. Notice the `side_length` between the parentheses. Also notice that we replaced the `100` on line 5 with `side_length`.\n",
    "\n",
    "Here's how we use this new function (note that it's now called `draw_square_2`):"
   ]
  },
  {
   "cell_type": "code",
   "execution_count": null,
   "metadata": {},
   "outputs": [],
   "source": [
    "draw_square_2(150)"
   ]
  },
  {
   "cell_type": "markdown",
   "metadata": {},
   "source": [
    "This drew a square with sides of length 150!\n",
    "\n",
    "Here, `side_length` is a **parameter** for the `draw_square_2()` function. When we use a function that has a parameter, we *have to* include that parameter whenever we use the function. So this:\n",
    "```\n",
    "draw_square_2()\n",
    "```\n",
    "does not work.\n",
    "\n",
    "A couple of notes:\n",
    "* Functions can have multiple parameters.\n",
    "* You can use functions inside of other functions.\n",
    "\n",
    "See if you can figure out how to use this and why it works:"
   ]
  },
  {
   "cell_type": "code",
   "execution_count": null,
   "metadata": {},
   "outputs": [],
   "source": [
    "def draw_square_3(side_length, color):\n",
    "    squirtle.pencolor(color)\n",
    "    draw_square_2(side_length)"
   ]
  },
  {
   "cell_type": "code",
   "execution_count": null,
   "metadata": {},
   "outputs": [],
   "source": []
  },
  {
   "cell_type": "markdown",
   "metadata": {},
   "source": [
    "## Task\n",
    "Try writing a function where the first line is this:\n",
    "```\n",
    "def draw_polygon(num_sides, side_length):\n",
    "```\n",
    "A few examples of what the behavior should be:\n",
    "* `draw_polygon(4, 100)` draws a square with side length 100\n",
    "* `draw_polygon(6, 80)` draws a hexagon with side length 80\n",
    "* This should work for any values of `num_sides` > 2 and `side_length` > 0.\n",
    "\n",
    "Hint: For a polygon with n sides, each angle is 180*(n-2)/n degrees."
   ]
  },
  {
   "cell_type": "code",
   "execution_count": null,
   "metadata": {},
   "outputs": [],
   "source": []
  },
  {
   "cell_type": "markdown",
   "metadata": {},
   "source": [
    "# Side note (but very important!): return values\n",
    "We'll touch on a little bit of math here; let's briefly talk about algebraic functions. This probably looks familiar from algebra class:\n",
    "```\n",
    "f(x) = x^2 + 3\n",
    "f(2) = 7\n",
    "f(5) = 28\n",
    "```\n",
    "f(x) is a function. But unlike `draw_square()`, f(x) actually takes on values. For example, you can say \"f(2) is 7\", but saying \"`draw_square()` is 7\" would be rather silly. This is because `draw_square()` is just a series of actions that the turtle takes; it is not associated with a value.\n",
    "\n",
    "But in programming, some functions actually can have values. Consider the following:"
   ]
  },
  {
   "cell_type": "code",
   "execution_count": null,
   "metadata": {},
   "outputs": [],
   "source": [
    "def f(x):\n",
    "    return x*x + 3"
   ]
  },
  {
   "cell_type": "markdown",
   "metadata": {},
   "source": [
    "Notice the `return` keyword on line 2. This defines the **return value** of `f()`; it **associates a value with the result of f(x)**. So, if we run this code:"
   ]
  },
  {
   "cell_type": "code",
   "execution_count": null,
   "metadata": {},
   "outputs": [],
   "source": [
    "y = f(5)\n",
    "print(y)"
   ]
  },
  {
   "cell_type": "markdown",
   "metadata": {},
   "source": [
    "we can see that y is 28.\n",
    "\n",
    "We can also use the results of functions like this:"
   ]
  },
  {
   "cell_type": "code",
   "execution_count": null,
   "metadata": {},
   "outputs": [],
   "source": [
    "draw_square_2(f(5)) # draws a square with side length 28"
   ]
  },
  {
   "cell_type": "markdown",
   "metadata": {},
   "source": [
    "If you remember the concept of a composition from algebra class, that might look familiar.\n",
    "\n",
    "## Tasks\n",
    "Write a function that has this as its first line:\n",
    "```\n",
    "def draw_square_get_perimeter(side_length):\n",
    "```\n",
    "It should have the following behavior:\n",
    "* `draw_square_get_perimeter(x)` should draw a square with side length x, just like `draw_square_2(x)`.\n",
    "* However, if we say `p = draw_square_get_perimeter(x)`, `p` should equal the perimeter of the square we just drew."
   ]
  },
  {
   "cell_type": "code",
   "execution_count": null,
   "metadata": {},
   "outputs": [],
   "source": []
  }
 ],
 "metadata": {
  "kernelspec": {
   "display_name": "Python 3",
   "language": "python",
   "name": "python3"
  },
  "language_info": {
   "codemirror_mode": {
    "name": "ipython",
    "version": 3
   },
   "file_extension": ".py",
   "mimetype": "text/x-python",
   "name": "python",
   "nbconvert_exporter": "python",
   "pygments_lexer": "ipython3",
   "version": "3.7.2"
  }
 },
 "nbformat": 4,
 "nbformat_minor": 2
}
